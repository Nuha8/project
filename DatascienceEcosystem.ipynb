{
  "metadata": {
    "kernelspec": {
      "name": "python",
      "display_name": "Python (Pyodide)",
      "language": "python"
    },
    "language_info": {
      "codemirror_mode": {
        "name": "python",
        "version": 3
      },
      "file_extension": ".py",
      "mimetype": "text/x-python",
      "name": "python",
      "nbconvert_exporter": "python",
      "pygments_lexer": "ipython3",
      "version": "3.8"
    }
  },
  "nbformat_minor": 4,
  "nbformat": 4,
  "cells": [
    {
      "cell_type": "markdown",
      "source": "# data scince tools and Ecosystem\n",
      "metadata": {}
    },
    {
      "cell_type": "markdown",
      "source": "in the notebook, data scince tools and ecosystem are summrized.",
      "metadata": {}
    },
    {
      "cell_type": "markdown",
      "source": "__objectives:__\n1. some of the popular languges data sinsces use.\n2. some of commonly used librarys used by data sinsces include\n3. this is simpeile",
      "metadata": {}
    },
    {
      "cell_type": "markdown",
      "source": "some of the popular languges data sinsces use are:\n1. python\n2. r\n3. java",
      "metadata": {}
    },
    {
      "cell_type": "markdown",
      "source": "some of commonly used librarys used by data sinsces include:\n- panda\n- numpy\n- requests",
      "metadata": {}
    },
    {
      "cell_type": "markdown",
      "source": "\n| data sinsce tools |\n| ------------------- |\n| rstudio |\n| knime |\n| python |\n\n\n",
      "metadata": {}
    },
    {
      "cell_type": "markdown",
      "source": "### below are a few excamples of evaluting arthmetic in python",
      "metadata": {}
    },
    {
      "cell_type": "code",
      "source": "(3*4)+5\n # this is simpile",
      "metadata": {
        "trusted": true
      },
      "outputs": [
        {
          "execution_count": 20,
          "output_type": "execute_result",
          "data": {
            "text/plain": "17"
          },
          "metadata": {}
        }
      ],
      "execution_count": 20
    },
    {
      "cell_type": "code",
      "source": "(200/60)\n# this will convert 200 minutes to hours by diving by 60",
      "metadata": {
        "trusted": true
      },
      "outputs": [
        {
          "execution_count": 28,
          "output_type": "execute_result",
          "data": {
            "text/plain": "3.3333333333333335"
          },
          "metadata": {}
        }
      ],
      "execution_count": 28
    },
    {
      "cell_type": "markdown",
      "source": "##  Author:\nname",
      "metadata": {}
    }
  ]
}